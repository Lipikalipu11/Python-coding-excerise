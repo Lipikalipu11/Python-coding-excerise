{
  "nbformat": 4,
  "nbformat_minor": 0,
  "metadata": {
    "colab": {
      "provenance": []
    },
    "kernelspec": {
      "name": "python3",
      "display_name": "Python 3"
    },
    "language_info": {
      "name": "python"
    }
  },
  "cells": [
    {
      "cell_type": "markdown",
      "source": [
        "Python Programming Assignment\n",
        "\n",
        "Exercise 1: Prime Numbers\n",
        "Write a Python program that checks whether a given number is prime or not. A prime number is a natural number greater than 1 that has no positive divisors other than 1 and itself.\n"
      ],
      "metadata": {
        "id": "mU2m-2hW5SyY"
      }
    },
    {
      "cell_type": "code",
      "execution_count": 1,
      "metadata": {
        "colab": {
          "base_uri": "https://localhost:8080/"
        },
        "id": "9X5Nt-Uo5Pxw",
        "outputId": "b2143d50-c626-4856-ee80-43f4e8bcb857"
      },
      "outputs": [
        {
          "output_type": "stream",
          "name": "stdout",
          "text": [
            "Enter a number: 3\n",
            "3 is a prime number\n"
          ]
        }
      ],
      "source": [
        "def is_prime(number):\n",
        "    if number <= 1:\n",
        "        return False\n",
        "    elif number <= 3:\n",
        "        return True\n",
        "    elif number % 2 == 0 or number % 3 == 0:\n",
        "        return False\n",
        "    i = 5\n",
        "    while i * i <= number:\n",
        "        if number % i == 0 or number % (i + 2) == 0:\n",
        "            return False\n",
        "        i += 6\n",
        "    return True\n",
        "\n",
        "# Test the function\n",
        "num = int(input(\"Enter a number: \"))\n",
        "if is_prime(num):\n",
        "    print(num, \"is a prime number\")\n",
        "else:\n",
        "    print(num, \"is not a prime number\")\n"
      ]
    },
    {
      "cell_type": "markdown",
      "source": [
        "Exercise 2: Product of Random Numbers\n",
        "Develop a Python program that generates two random numbers and asks the user to enter the product of these numbers. The program should then check if the user's answer is correct and display an appropriate message.\n"
      ],
      "metadata": {
        "id": "emgbBW0D5pos"
      }
    },
    {
      "cell_type": "code",
      "source": [
        "import random\n",
        "\n",
        "def generate_numbers():\n",
        "    num1 = random.randint(1, 10)\n",
        "    num2 = random.randint(1, 10)\n",
        "    return num1, num2\n",
        "\n",
        "def main():\n",
        "    num1, num2 = generate_numbers()\n",
        "    product = num1 * num2\n",
        "\n",
        "    user_answer = int(input(f\"What is the product of {num1} and {num2}? \"))\n",
        "\n",
        "    if user_answer == product:\n",
        "        print(\"Congratulations! Your answer is correct.\")\n",
        "    else:\n",
        "        print(f\"Sorry, the correct answer is {product}.\")\n",
        "\n",
        "if __name__ == \"__main__\":\n",
        "    main()\n"
      ],
      "metadata": {
        "colab": {
          "base_uri": "https://localhost:8080/"
        },
        "id": "hBlZ2Htw5uoy",
        "outputId": "074a79c0-610e-474d-e77b-fcfa3a409ad2"
      },
      "execution_count": 2,
      "outputs": [
        {
          "output_type": "stream",
          "name": "stdout",
          "text": [
            "What is the product of 7 and 2? 14\n",
            "Congratulations! Your answer is correct.\n"
          ]
        }
      ]
    },
    {
      "cell_type": "markdown",
      "source": [
        "Exercise 3: Squares of Even/Odd Numbers\n",
        "Create a Python script that prints the squares of all even or odd numbers within the range of 100 to 200. Choose either even or odd numbers and document your choice in the code.\n"
      ],
      "metadata": {
        "id": "GYn_WK5e5_FY"
      }
    },
    {
      "cell_type": "code",
      "source": [
        "def print_even_squares(start, end):\n",
        "    print(\"Squares of even numbers within the range of\", start, \"to\", end)\n",
        "    for num in range(start, end + 1):\n",
        "        if num % 2 == 0:\n",
        "            print(num, \":\", num ** 2)\n",
        "\n",
        "# Define the range\n",
        "start = 100\n",
        "end = 200\n",
        "\n",
        "# Print squares of even numbers in the range\n",
        "print_even_squares(start, end)\n"
      ],
      "metadata": {
        "colab": {
          "base_uri": "https://localhost:8080/"
        },
        "id": "hJePncNa6B30",
        "outputId": "b9f6ba99-18b3-46e9-e2d2-023ecc3f6ffe"
      },
      "execution_count": 3,
      "outputs": [
        {
          "output_type": "stream",
          "name": "stdout",
          "text": [
            "Squares of even numbers within the range of 100 to 200\n",
            "100 : 10000\n",
            "102 : 10404\n",
            "104 : 10816\n",
            "106 : 11236\n",
            "108 : 11664\n",
            "110 : 12100\n",
            "112 : 12544\n",
            "114 : 12996\n",
            "116 : 13456\n",
            "118 : 13924\n",
            "120 : 14400\n",
            "122 : 14884\n",
            "124 : 15376\n",
            "126 : 15876\n",
            "128 : 16384\n",
            "130 : 16900\n",
            "132 : 17424\n",
            "134 : 17956\n",
            "136 : 18496\n",
            "138 : 19044\n",
            "140 : 19600\n",
            "142 : 20164\n",
            "144 : 20736\n",
            "146 : 21316\n",
            "148 : 21904\n",
            "150 : 22500\n",
            "152 : 23104\n",
            "154 : 23716\n",
            "156 : 24336\n",
            "158 : 24964\n",
            "160 : 25600\n",
            "162 : 26244\n",
            "164 : 26896\n",
            "166 : 27556\n",
            "168 : 28224\n",
            "170 : 28900\n",
            "172 : 29584\n",
            "174 : 30276\n",
            "176 : 30976\n",
            "178 : 31684\n",
            "180 : 32400\n",
            "182 : 33124\n",
            "184 : 33856\n",
            "186 : 34596\n",
            "188 : 35344\n",
            "190 : 36100\n",
            "192 : 36864\n",
            "194 : 37636\n",
            "196 : 38416\n",
            "198 : 39204\n",
            "200 : 40000\n"
          ]
        }
      ]
    },
    {
      "cell_type": "markdown",
      "source": [
        "Exercise 4: Word counter\n",
        "write a program to count the number of words in a given text.\n",
        "example:\n",
        "input_text = \"This is a sample text. This text will be used to demonstrate the word counter.\"\n",
        "Expected output:\n",
        "'This': 2\n",
        "'is': 1\n",
        "'a': 1\n",
        "'sample': 1\n",
        "'text.': 1\n"
      ],
      "metadata": {
        "id": "bv_7B2Cw6WVx"
      }
    },
    {
      "cell_type": "code",
      "source": [
        "def word_counter(text):\n",
        "    word_count = {}\n",
        "    words = text.split()\n",
        "    for word in words:\n",
        "        word = word.strip(\",.?!\")  # Remove punctuation marks from the word\n",
        "        if word in word_count:\n",
        "            word_count[word] += 1\n",
        "        else:\n",
        "            word_count[word] = 1\n",
        "    return word_count\n",
        "\n",
        "input_text = \"This is a sample text. This text will be used to demonstrate the word counter.\"\n",
        "result = word_counter(input_text)\n",
        "\n",
        "for word, count in result.items():\n",
        "    print(f\"'{word}': {count}\")\n"
      ],
      "metadata": {
        "colab": {
          "base_uri": "https://localhost:8080/"
        },
        "id": "DtXJcurw6W6q",
        "outputId": "a58ea910-a4c5-481e-e1de-6a4672345d40"
      },
      "execution_count": 4,
      "outputs": [
        {
          "output_type": "stream",
          "name": "stdout",
          "text": [
            "'This': 2\n",
            "'is': 1\n",
            "'a': 1\n",
            "'sample': 1\n",
            "'text': 2\n",
            "'will': 1\n",
            "'be': 1\n",
            "'used': 1\n",
            "'to': 1\n",
            "'demonstrate': 1\n",
            "'the': 1\n",
            "'word': 1\n",
            "'counter': 1\n"
          ]
        }
      ]
    },
    {
      "cell_type": "markdown",
      "source": [
        "Exercise 5: Check for Palindrome\n",
        "Write a Python function called is_palindrome that takes a string as input and returns True if the string is a palindrome, and False otherwise. A palindrome is a word, phrase, number, or other sequence of characters that reads the same forward and backward, ignoring spaces, punctuation, and capitalization.\n",
        "Example:\n",
        "Input: \"racecar\"\n",
        "Expected Output: True\n"
      ],
      "metadata": {
        "id": "OupAXMjr6ffq"
      }
    },
    {
      "cell_type": "code",
      "source": [
        "def is_palindrome(s):\n",
        "    # Convert the string to lowercase and remove spaces and punctuation\n",
        "    s = ''.join(char.lower() for char in s if char.isalnum())\n",
        "    # Check if the string is equal to its reverse\n",
        "    return s == s[::-1]\n",
        "\n",
        "# Test the function\n",
        "input_string = \"racecar\"\n",
        "print(is_palindrome(input_string))  # Output: True\n"
      ],
      "metadata": {
        "colab": {
          "base_uri": "https://localhost:8080/"
        },
        "id": "hM2iBAH-6mh6",
        "outputId": "3ad9f3de-097a-4f99-a4bd-833710027e22"
      },
      "execution_count": 5,
      "outputs": [
        {
          "output_type": "stream",
          "name": "stdout",
          "text": [
            "True\n"
          ]
        }
      ]
    }
  ]
}